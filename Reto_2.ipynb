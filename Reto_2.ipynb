{
  "nbformat": 4,
  "nbformat_minor": 0,
  "metadata": {
    "colab": {
      "provenance": [],
      "include_colab_link": true
    },
    "kernelspec": {
      "name": "python3",
      "display_name": "Python 3"
    },
    "language_info": {
      "name": "python"
    }
  },
  "cells": [
    {
      "cell_type": "markdown",
      "metadata": {
        "id": "view-in-github",
        "colab_type": "text"
      },
      "source": [
        "<a href=\"https://colab.research.google.com/github/andresrey28/Analitica-de-Negocios/blob/main/Reto_2.ipynb\" target=\"_parent\"><img src=\"https://colab.research.google.com/assets/colab-badge.svg\" alt=\"Open In Colab\"/></a>"
      ]
    },
    {
      "cell_type": "markdown",
      "source": [
        "0. Se procede con la carga de las librerias de trabajo"
      ],
      "metadata": {
        "id": "kf-UYS4sX1wV"
      }
    },
    {
      "cell_type": "code",
      "execution_count": null,
      "metadata": {
        "colab": {
          "base_uri": "https://localhost:8080/"
        },
        "id": "49SmPDLUWuuN",
        "outputId": "74f9af84-1ee2-4b7e-bb3c-796efae30c55"
      },
      "outputs": [
        {
          "output_type": "stream",
          "name": "stdout",
          "text": [
            "Mounted at /content/drive\n"
          ]
        }
      ],
      "source": [
        "import numpy as np\n",
        "import pandas as pd\n",
        "\n",
        "#para implementación y evalución del modelo\n",
        "from sklearn.tree import DecisionTreeClassifier\n",
        "from sklearn.metrics import confusion_matrix\n",
        "\n",
        "#Para carga automatica de los archivos desde el drive\n",
        "from google.colab import drive\n",
        "drive.mount('/content/drive')"
      ]
    },
    {
      "cell_type": "markdown",
      "source": [
        "1. Se procede con la carga de datos"
      ],
      "metadata": {
        "id": "1Z3iFYtvYTIh"
      }
    },
    {
      "cell_type": "code",
      "source": [
        "nxl=\"/content/drive/MyDrive/Classroom/2. TechSalesReport_Int_L.xlsx\"\n",
        "XDB=pd.read_excel(nxl,sheet_name=0)\n",
        "XDB['Business'] = XDB['Business'].replace({'Hardware': 0, 'Software': 1})\n",
        "XDB['College'] = XDB['College'].replace({'Yes': 1, 'No': 0})\n",
        "XDB = XDB.drop(['Sales_Rep', 'Personality'], axis=1)\n",
        "print(XDB)"
      ],
      "metadata": {
        "colab": {
          "base_uri": "https://localhost:8080/"
        },
        "id": "jiM4eQruYcgg",
        "outputId": "8e1eab29-b5ae-4b0f-82cb-fe7c3dc745ec"
      },
      "execution_count": null,
      "outputs": [
        {
          "output_type": "stream",
          "name": "stdout",
          "text": [
            "       Business  Age  Female  Years  College  Certificates  Feedback  Salary  \\\n",
            "0             0   59       1      2        1             1      2.01   70200   \n",
            "1             0   52       0     10        1             4      3.64  133000   \n",
            "2             1   47       1      1        1             1      3.88   52600   \n",
            "3             0   61       0      2        1             3      2.70   96000   \n",
            "4             1   39       0      1        0             5      3.44  122000   \n",
            "...         ...  ...     ...    ...      ...           ...       ...     ...   \n",
            "21985         1   44       0      1        1             4      1.80  128000   \n",
            "21986         1   23       1      6        1             6      1.77   53400   \n",
            "21987         0   48       1      4        1             0      2.46   50400   \n",
            "21988         1   29       0      4        1             2      3.68   70000   \n",
            "21989         1   23       1      2        1             1      2.13   47400   \n",
            "\n",
            "       NPS  \n",
            "0        5  \n",
            "1       10  \n",
            "2        8  \n",
            "3        6  \n",
            "4        7  \n",
            "...    ...  \n",
            "21985    7  \n",
            "21986    8  \n",
            "21987    4  \n",
            "21988   10  \n",
            "21989    5  \n",
            "\n",
            "[21990 rows x 9 columns]\n"
          ]
        },
        {
          "output_type": "stream",
          "name": "stderr",
          "text": [
            "<ipython-input-3-83c253b9e017>:3: FutureWarning: Downcasting behavior in `replace` is deprecated and will be removed in a future version. To retain the old behavior, explicitly call `result.infer_objects(copy=False)`. To opt-in to the future behavior, set `pd.set_option('future.no_silent_downcasting', True)`\n",
            "  XDB['Business'] = XDB['Business'].replace({'Hardware': 0, 'Software': 1})\n",
            "<ipython-input-3-83c253b9e017>:4: FutureWarning: Downcasting behavior in `replace` is deprecated and will be removed in a future version. To retain the old behavior, explicitly call `result.infer_objects(copy=False)`. To opt-in to the future behavior, set `pd.set_option('future.no_silent_downcasting', True)`\n",
            "  XDB['College'] = XDB['College'].replace({'Yes': 1, 'No': 0})\n"
          ]
        }
      ]
    },
    {
      "cell_type": "markdown",
      "source": [
        "2. Seleccionamos las variables"
      ],
      "metadata": {
        "id": "xzamsI-YiFnK"
      }
    },
    {
      "cell_type": "code",
      "source": [
        "# Definir XD e yd\n",
        "XD=XDB[['Business', 'Age', 'Years', 'Female', 'Feedback', 'Salary', 'Certificates','NPS']]\n",
        "yd=XDB['College']\n",
        "print(XD)\n",
        "print(yd)"
      ],
      "metadata": {
        "colab": {
          "base_uri": "https://localhost:8080/"
        },
        "id": "nX_d1-cEeBHv",
        "outputId": "bc484351-45ff-4056-bd76-09fa295d52f5"
      },
      "execution_count": null,
      "outputs": [
        {
          "output_type": "stream",
          "name": "stdout",
          "text": [
            "       Business  Age  Years  Female  Feedback  Salary  Certificates  NPS\n",
            "0             0   59      2       1      2.01   70200             1    5\n",
            "1             0   52     10       0      3.64  133000             4   10\n",
            "2             1   47      1       1      3.88   52600             1    8\n",
            "3             0   61      2       0      2.70   96000             3    6\n",
            "4             1   39      1       0      3.44  122000             5    7\n",
            "...         ...  ...    ...     ...       ...     ...           ...  ...\n",
            "21985         1   44      1       0      1.80  128000             4    7\n",
            "21986         1   23      6       1      1.77   53400             6    8\n",
            "21987         0   48      4       1      2.46   50400             0    4\n",
            "21988         1   29      4       0      3.68   70000             2   10\n",
            "21989         1   23      2       1      2.13   47400             1    5\n",
            "\n",
            "[21990 rows x 8 columns]\n",
            "0        1\n",
            "1        1\n",
            "2        1\n",
            "3        1\n",
            "4        0\n",
            "        ..\n",
            "21985    1\n",
            "21986    1\n",
            "21987    1\n",
            "21988    1\n",
            "21989    1\n",
            "Name: College, Length: 21990, dtype: int64\n"
          ]
        }
      ]
    },
    {
      "cell_type": "markdown",
      "source": [
        "3. Se procede con la implementación del modelo"
      ],
      "metadata": {
        "id": "YRcYmkCpmDVI"
      }
    },
    {
      "cell_type": "code",
      "source": [
        "mar=DecisionTreeClassifier(criterion='gini',max_depth=4)\n",
        "mar.fit(XD,yd)\n",
        "\n",
        "#Se procede con el despliegue del arbol\n",
        "from sklearn.tree import export_graphviz #Exportar\n",
        "from pydotplus import graph_from_dot_data #Crear grafico\n",
        "\n",
        "vs=['Business', 'Age', 'Years', 'Female', 'Feedback', 'Salary', 'Certificates','NPS']\n",
        "\n",
        "dot_data=export_graphviz(mar,feature_names=vs)\n",
        "graph=graph_from_dot_data(dot_data)\n",
        "graph.write_png('1. ArbolPreApr.png')"
      ],
      "metadata": {
        "colab": {
          "base_uri": "https://localhost:8080/"
        },
        "id": "w9DZfv-KmJls",
        "outputId": "bebbf7a5-d659-41c7-e094-1e0f609693a5"
      },
      "execution_count": null,
      "outputs": [
        {
          "output_type": "execute_result",
          "data": {
            "text/plain": [
              "True"
            ]
          },
          "metadata": {},
          "execution_count": 5
        }
      ]
    },
    {
      "cell_type": "markdown",
      "source": [
        "4. Desempeño del modelo"
      ],
      "metadata": {
        "id": "cTn_ACApmeZ_"
      }
    },
    {
      "cell_type": "code",
      "source": [
        "ydp=mar.predict(XD)\n",
        "cm=confusion_matrix(yd,ydp)\n",
        "print(cm)\n",
        "\n",
        "\n",
        "VN=cm[0,0]; FP=cm[0,1]; FN=cm[1,0]; VP=cm[1,1]\n",
        "\n",
        "Exactitud=(VP+VN)/(VP+VN+FP+FN) #Funcionamiento general del modelo\n",
        "print('Exactitud',Exactitud)\n",
        "Sensibilidad=VP/(VP+FN) #Como se comporto el modelo con los aprobados\n",
        "print('Sensibilidad',Sensibilidad)\n",
        "Especificidad=VN/(VN+FP) #Como se comporto el modelo con los negados\n",
        "print('Especificidad',Especificidad)\n",
        "Precision=VP/(VP+FP) #Cual es el acierto clasificando los positivos\n",
        "print('Precision',Precision)\n",
        "TasaError=(FP+FN)/(VP+VN+FP+FN) #Equivocación general\n",
        "print('TasaError',TasaError)\n",
        "PredNeg=VN/(VN+FN) #Como funciona el modelo negando creditos\n",
        "print('PredNeg',PredNeg)"
      ],
      "metadata": {
        "colab": {
          "base_uri": "https://localhost:8080/"
        },
        "id": "b2a_-1LQmgHn",
        "outputId": "038b4eaf-2a22-475a-bfb4-dd1433d387f4"
      },
      "execution_count": null,
      "outputs": [
        {
          "output_type": "stream",
          "name": "stdout",
          "text": [
            "[[  114  4356]\n",
            " [   69 17451]]\n",
            "Exactitud 0.7987721691678036\n",
            "Sensibilidad 0.9960616438356165\n",
            "Especificidad 0.025503355704697986\n",
            "Precision 0.8002476269087908\n",
            "TasaError 0.20122783083219645\n",
            "PredNeg 0.6229508196721312\n"
          ]
        }
      ]
    },
    {
      "cell_type": "markdown",
      "source": [
        "5. Número de personas, de nodos puros para el arbol e intervalo titulo universitario"
      ],
      "metadata": {
        "id": "3l51gpiMngde"
      }
    },
    {
      "cell_type": "code",
      "source": [
        "# Total de personas\n",
        "total_personas = len(XDB)\n",
        "\n",
        "# Número de personas con título universitario (inscritas)\n",
        "num_inscritas = XDB['College'].sum()\n",
        "\n",
        "# Número de personas sin título universitario (no inscritas)\n",
        "num_no_inscritas = total_personas - num_inscritas\n",
        "\n",
        "# Imprimir los resultados\n",
        "print(f\"Total de personas en la base de datos: {total_personas}\")\n",
        "print(f\"Número de personas con título universitario (inscritas): {num_inscritas}\")\n",
        "print(f\"Número de personas sin título universitario (no inscritas): {num_no_inscritas}\")\n",
        "filtered_data = XDB[(XDB['Salary'] <= 64100) & (XDB['Salary'] > 47100) & (XDB['Age'] > 39.5) & (XDB['Certificates'] > 1.5)]\n",
        "num_college_degree = filtered_data['College'].sum()\n",
        "print(f\"Número de personas con título universitario en el intervalo: {num_college_degree}\")\n",
        "filtered_data = XDB[(XDB['Salary'] <= 64100) & (XDB['Salary'] > 47100) & (XDB['Age'] > 39.5) & (XDB['Certificates'] <= 1.5)]\n",
        "num_no_college_degree = len(filtered_data) - filtered_data['College'].sum()\n",
        "print(f\"Número de personas sin título universitario en el intervalo: {num_no_college_degree}\")"
      ],
      "metadata": {
        "colab": {
          "base_uri": "https://localhost:8080/"
        },
        "id": "r-aM-6PutR3p",
        "outputId": "68647888-cd53-4984-95bb-f99d99bae30c"
      },
      "execution_count": null,
      "outputs": [
        {
          "output_type": "stream",
          "name": "stdout",
          "text": [
            "Total de personas en la base de datos: 21990\n",
            "Número de personas con título universitario (inscritas): 17520\n",
            "Número de personas sin título universitario (no inscritas): 4470\n",
            "Número de personas con título universitario en el intervalo: 986\n",
            "Número de personas sin título universitario en el intervalo: 356\n"
          ]
        }
      ]
    },
    {
      "cell_type": "markdown",
      "source": [
        "6. Pronóstico en un archivo de Excel"
      ],
      "metadata": {
        "id": "6V5kAZ2JCpOK"
      }
    },
    {
      "cell_type": "code",
      "source": [
        "import pandas as pd\n",
        "# Instala la librería openpyxl si no la tienes:\n",
        "# !pip install openpyxl\n",
        "\n",
        "# Crear un DataFrame con los pronósticos\n",
        "# Suponiendo que 'ydp' contiene los pronósticos del modelo\n",
        "# y 'XD' contiene los datos de entrada\n",
        "df_pronostico = pd.DataFrame({'Pronostico': ydp}, index=XD.index)\n",
        "\n",
        "# Unir el DataFrame de pronósticos con los datos originales (opcional)\n",
        "df_completo = pd.concat([XD, df_pronostico], axis=1)\n",
        "\n",
        "# Guardar el DataFrame en un archivo de Excel\n",
        "df_completo.to_excel('informe_pronostico.xlsx', sheet_name='Pronosticos', index=False)"
      ],
      "metadata": {
        "id": "xxrcX--MCD3J"
      },
      "execution_count": null,
      "outputs": []
    },
    {
      "cell_type": "markdown",
      "source": [
        "7. Análisis de Resultados\n",
        "\n",
        "Para la implementación del modelo de Árbol de Decisión, se tomaron un total de 8 variables de entrada, en las que se destacan Business, Age , Years , Female , Feedback , Salary , Certificates  y NPS . La variable de salida utilizada fue College, que permite evaluar si una persona tiene un título universitario. Para la construcción del modelo se contó con un total de 21,990 registros, de los cuales 4,470 personas no tenían un título universitario y 17,520 sí lo tenían. Luego de la ejecución del modelo se logró una exactitud cercana al 79.87%, lo que está por encima del 75%, indicando una calidad aceptable en el pronóstico.\n",
        "\n",
        "Es importante destacar que el coeficiente de sensibilidad estuvo en un 99.60%, lo que indica que el modelo identificó correctamente la gran mayoría de los casos positivos (personas con título universitario). Sin embargo, la especificidad fue del 2.55%, lo que sugiere que el modelo no fue eficiente al clasificar correctamente los casos negativos. La precisión en la clasificación de positivos fue del 80.02%, mientras que la predicción negativa fue del 62.29%, confirmando la tendencia del modelo a clasificar mayormente casos positivos.\n",
        "\n",
        "La base de datos completa posee un total de 4,470 personas sin título universitario. Luego de la construcción del modelo, se procedió con el pronóstico de preaprobación universitaria para estos registros. Se logró un informe de predicción en donde el modelo identificó a la mayoría de los casos como personas con título universitario. Es importante mencionar que en el árbol generado no hay ningún nodo puro, lo que indica que en todos los nodos hoja hay una mezcla de ambas categorías (personas con y sin título universitario). Esto puede influir en la capacidad del modelo para realizar clasificaciones más precisas y podría mejorarse con una mayor profundidad del árbol o el ajuste de otros parámetros."
      ],
      "metadata": {
        "id": "yVYnOOYmLQiD"
      }
    }
  ]
}