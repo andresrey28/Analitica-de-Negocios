{
  "nbformat": 4,
  "nbformat_minor": 0,
  "metadata": {
    "colab": {
      "provenance": [],
      "authorship_tag": "ABX9TyPK/ipKD6rOfnAzUiH0Ctfv",
      "include_colab_link": true
    },
    "kernelspec": {
      "name": "python3",
      "display_name": "Python 3"
    },
    "language_info": {
      "name": "python"
    }
  },
  "cells": [
    {
      "cell_type": "markdown",
      "metadata": {
        "id": "view-in-github",
        "colab_type": "text"
      },
      "source": [
        "<a href=\"https://colab.research.google.com/github/andresrey28/Analitica-de-Negocios/blob/main/Untitled3.ipynb\" target=\"_parent\"><img src=\"https://colab.research.google.com/assets/colab-badge.svg\" alt=\"Open In Colab\"/></a>"
      ]
    },
    {
      "cell_type": "markdown",
      "source": [
        "Reto #1 Andres Rey"
      ],
      "metadata": {
        "id": "0oBFXMYEQ-7E"
      }
    },
    {
      "cell_type": "markdown",
      "source": [
        "0. Se procede con la carga de las librerías de trabajo."
      ],
      "metadata": {
        "id": "0sDA11xGRF9B"
      }
    },
    {
      "cell_type": "code",
      "source": [
        "import numpy as np #Funciones numéricas para la transformación y análisis de los datos.\n",
        "import pandas as pd #Conectar el sistema con las bases de datos."
      ],
      "metadata": {
        "id": "qMVuyfCgRJTZ"
      },
      "execution_count": 1,
      "outputs": []
    },
    {
      "cell_type": "markdown",
      "source": [
        "1. Se procede con la carga de la base de datos."
      ],
      "metadata": {
        "id": "z6cVlxvQRPnW"
      }
    },
    {
      "cell_type": "code",
      "source": [
        "nxl=\"/content/1. BD2_CarCrash_Int.xlsx\"\n",
        "XDB=pd.read_excel(nxl,sheet_name=1)\n",
        "\n",
        "#Se cargan las variables de interés.\n",
        "XDB=XDB[['Weekday','ViolCat','ClearWeather','Month','CrashType','Highway','Daylight']]\n",
        "\n",
        "##Separamos las variables por Entrada-Salida.\n",
        "XD=XDB[['Weekday','ViolCat','ClearWeather','Month','CrashType','Daylight']] #Aquí están las variables de entrada.\n",
        "yd=XDB[['Highway']] #Aquí está la variable de referencia."
      ],
      "metadata": {
        "id": "wktKpTR_RQgU"
      },
      "execution_count": 6,
      "outputs": []
    },
    {
      "cell_type": "markdown",
      "source": [
        "1. Implementamos el Modelo."
      ],
      "metadata": {
        "id": "we0HpEB5SesL"
      }
    },
    {
      "cell_type": "code",
      "source": [
        "from sklearn.naive_bayes import GaussianNB\n",
        "\n",
        "mnb=GaussianNB()\n",
        "mnb.fit(XD,yd)\n",
        "\n",
        "#Se obtiene la información:\n",
        "ct=mnb.class_count_\n",
        "print(\"**Cómo están separados los datos:**\\n\",ct)\n",
        "print(\"**El total de los datos es:**\\n\",len(XD))\n",
        "print(\"**Los datos porcentualmente están divididos en:**\\n\",(ct/len(XD))*100)\n",
        "\n",
        "#Se obtiene la información por categoría:\n",
        "u=mnb.theta_\n",
        "print(\"**La media de los accidentes por categoría es:**\\n\",u)\n",
        "std=mnb.var_  #Esto es Varianza\n",
        "std=np.sqrt(std)\n",
        "print(\"**La desviación estandar de los accidentes por categoría es:**\\n\",std)\n",
        "\n",
        "#Se identifican los valores superiores e inferiores de los ingresos.\n",
        "print(\"**El límite superior de los valores es:**\\n\",u+std)\n",
        "print(\"**El límite inferior de los valores es:**\\n\",u-std)\n",
        "\n",
        "#Para evaluar un solo caso:\n",
        "XS=[[5,1,1,3,4,0]]\n",
        "mnb.predict(XS)"
      ],
      "metadata": {
        "colab": {
          "base_uri": "https://localhost:8080/"
        },
        "id": "tS0QcJohSf-T",
        "outputId": "56db084a-e7f1-4927-de97-357d818f52b7"
      },
      "execution_count": 7,
      "outputs": [
        {
          "output_type": "stream",
          "name": "stdout",
          "text": [
            "**Cómo están separados los datos:**\n",
            " [1580.  501.]\n",
            "**El total de los datos es:**\n",
            " 2081\n",
            "**Los datos porcentualmente están divididos en:**\n",
            " [75.92503604 24.07496396]\n",
            "**La media de los accidentes por categoría es:**\n",
            " [[3.88417722 7.45696203 0.86265823 4.35189873 4.21772152 0.66265823]\n",
            " [3.9261477  4.1497006  0.79840319 6.69461078 3.27744511 0.62075848]]\n",
            "**La desviación estandar de los accidentes por categoría es:**\n",
            " [[1.95062542 3.52136997 0.34420782 2.3433645  1.87371962 0.47280262]\n",
            " [2.01603723 2.16198902 0.40119266 3.44163641 1.05765448 0.48519831]]\n",
            "**El límite superior de los valores es:**\n",
            " [[ 5.83480263 10.978332    1.20686605  6.69526323  6.09144114  1.13546084]\n",
            " [ 5.94218494  6.31168962  1.19959585 10.13624719  4.33509959  1.10595679]]\n",
            "**El límite inferior de los valores es:**\n",
            " [[1.9335518  3.93559205 0.51845041 2.00853424 2.3440019  0.18985561]\n",
            " [1.91011047 1.98771158 0.39721054 3.25297437 2.21979063 0.13556017]]\n"
          ]
        },
        {
          "output_type": "stream",
          "name": "stderr",
          "text": [
            "/usr/local/lib/python3.11/dist-packages/sklearn/utils/validation.py:1408: DataConversionWarning: A column-vector y was passed when a 1d array was expected. Please change the shape of y to (n_samples, ), for example using ravel().\n",
            "  y = column_or_1d(y, warn=True)\n",
            "/usr/local/lib/python3.11/dist-packages/sklearn/utils/validation.py:2739: UserWarning: X does not have valid feature names, but GaussianNB was fitted with feature names\n",
            "  warnings.warn(\n"
          ]
        },
        {
          "output_type": "execute_result",
          "data": {
            "text/plain": [
              "array([0])"
            ]
          },
          "metadata": {},
          "execution_count": 7
        }
      ]
    },
    {
      "cell_type": "markdown",
      "source": [
        "Matriz de Confusión\n",
        "\n",
        "Se procede con la evaluación o desempeño del modelo."
      ],
      "metadata": {
        "id": "DSFhnLQ_SnGM"
      }
    },
    {
      "cell_type": "code",
      "source": [
        "ydp=mnb.predict(XD)  #Hazme el pronóstico de los positivos y negativos.\n",
        "from sklearn.metrics import confusion_matrix\n",
        "cm=confusion_matrix(yd,ydp)\n",
        "print(cm)\n",
        "\n",
        "VN=cm[0,0];FP=cm[0,1];FN=cm[1,0];VP=cm[1,1]\n",
        "\n",
        "Ex=((VN+VP)/(VN+VP+FN+FP))*100\n",
        "print(\"La exactitud del modelo es del:\",Ex)\n",
        "\n",
        "TE=((FN+FP)/(VN+VP+FN+FP))*100\n",
        "print(\"La tasa de error del modelo es del;\",TE)\n",
        "\n",
        "Sen=(VP/(VP+FN))*100\n",
        "print(\"La sensibilidad del modelo es del:\",Sen)\n",
        "\n",
        "Esp=(VN/(VN+FP))*100\n",
        "print(\"La especificidad del modelo es del:\",Esp)\n",
        "\n",
        "Pre=(VP/(VP+FP))*100\n",
        "print(\"La precisión del modelo es del:\",Pre)\n",
        "\n",
        "Pren=(VN/(VN+FN))*100\n",
        "print(\"La precisión negativa del modelo es del:\",Pren)"
      ],
      "metadata": {
        "colab": {
          "base_uri": "https://localhost:8080/"
        },
        "id": "JM_3MmHNSnqg",
        "outputId": "1f23485c-2b4e-4202-f04a-7bd603cc7f86"
      },
      "execution_count": 8,
      "outputs": [
        {
          "output_type": "stream",
          "name": "stdout",
          "text": [
            "[[1365  215]\n",
            " [ 224  277]]\n",
            "La exactitud del modelo es del: 78.90437289764536\n",
            "La tasa de error del modelo es del; 21.095627102354637\n",
            "La sensibilidad del modelo es del: 55.28942115768463\n",
            "La especificidad del modelo es del: 86.39240506329115\n",
            "La precisión del modelo es del: 56.30081300813008\n",
            "La precisión negativa del modelo es del: 85.90308370044053\n"
          ]
        }
      ]
    },
    {
      "cell_type": "markdown",
      "source": [
        "ANÁLISIS DE RESULTADOS:\n",
        "\n",
        "Para esta base de datos contamos con un total de 2.081 datos. Estos datos están repartidos de forma que el 76% corresponde a un resultado \"0\" y el otro 24% corresponde a un resultado \"1\".\n",
        "\n",
        "Las variaciones de la categoría \"Día de la semana\" (Weekday) corresponden a los siguientes intervalos: [5.83 , 5.94] y [1.93 , 1.91].\n",
        "Las variaciones de la categoría \"ViolCat\" corresponden a los siguientes intervalos: [10.97 , 6.31] y [3.93 , 1.98].\n",
        "Las variaciones de la categoría \"CrashType\" corresponden a los siguientes intervalos: [6.09 , 4.33] y [2.34 , 2.21].\n",
        "Este modelo alcanzó una exactitud cercana al 80%, la cual es bastante alta, con respecto a una baja tasa de error del 20% aproximadamente.\n",
        "\n",
        "Dentro del funcionamiento del modelo se destacan principalmente su especificidad, con un valor del 86%, y su precisión negativa, igualmente con un 86%. Esto anterior nos indica que el modelo es bastante acertado ante la no existencia de accidentes en autopista, y a su vez es bastante acertado prediciendo una respuesta negativa ante un caso hipotético.\n",
        "\n",
        "Esto queda demostrado al hacer la prueba con la siguiente combinación de variables: [5,1,1,3,4,0], donde el modelo predice que no habrá un accidente en una autopista.\n",
        "\n",
        "Los demás indicadores de desempeño del modelo se encuentran desarrollados antes de este análisis."
      ],
      "metadata": {
        "id": "AGBLkCf5SsiU"
      }
    }
  ]
}